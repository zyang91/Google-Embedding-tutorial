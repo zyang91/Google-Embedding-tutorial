{
 "cells": [
  {
   "cell_type": "code",
   "execution_count": null,
   "id": "0",
   "metadata": {},
   "outputs": [],
   "source": [
    "import os\n",
    "import pandas as pd\n",
    "from sklearn.model_selection import train_test_split\n",
    "from sklearn.linear_model import LinearRegression\n",
    "from sklearn.neighbors import KNeighborsRegressor\n",
    "from leafmap.common import evaluate_model, plot_actual_vs_predicted, download_file"
   ]
  },
  {
   "cell_type": "code",
   "execution_count": null,
   "id": "1",
   "metadata": {},
   "outputs": [],
   "source": [
    "zhvi_file = \"/home/zyang91/Desktop/data/zillow_home_value_index_by_zipcode.csv\""
   ]
  },
  {
   "cell_type": "code",
   "execution_count": null,
   "id": "2",
   "metadata": {},
   "outputs": [],
   "source": [
    "zhvi_df = pd.read_csv(zhvi_file, dtype={\"RegionName\": str})\n",
    "zhvi_df.index = zhvi_df[\"RegionName\"].apply(lambda x: f\"zip/{x}\")\n",
    "zhvi_df"
   ]
  },
  {
   "cell_type": "code",
   "execution_count": null,
   "id": "3",
   "metadata": {},
   "outputs": [],
   "source": [
    "embeddings_file = \"/home/zyang91/Desktop/us/zcta_embeddings.csv\""
   ]
  },
  {
   "cell_type": "code",
   "execution_count": null,
   "id": "4",
   "metadata": {},
   "outputs": [],
   "source": [
    "zipcode_embeddings = pd.read_csv(embeddings_file).set_index(\"place\")\n",
    "zipcode_embeddings"
   ]
  },
  {
   "cell_type": "code",
   "execution_count": null,
   "id": "5",
   "metadata": {},
   "outputs": [],
   "source": [
    "data = zhvi_df.join(zipcode_embeddings, how=\"inner\")\n",
    "data"
   ]
  },
  {
   "cell_type": "code",
   "execution_count": null,
   "id": "6",
   "metadata": {},
   "outputs": [],
   "source": [
    "embedding_features = [f\"feature{x}\" for x in range(330)]\n",
    "label = \"2024-10-31\""
   ]
  },
  {
   "cell_type": "code",
   "execution_count": null,
   "id": "7",
   "metadata": {},
   "outputs": [],
   "source": [
    "data = data.dropna(subset=[label])\n",
    "data"
   ]
  },
  {
   "cell_type": "code",
   "execution_count": null,
   "id": "8",
   "metadata": {},
   "outputs": [],
   "source": [
    "data = data[embedding_features + [label]]\n",
    "X = data[embedding_features]\n",
    "y = data[label]\n",
    "\n",
    "X_train, X_test, y_train, y_test = train_test_split(\n",
    "    X, y, test_size=0.2, random_state=42\n",
    ")"
   ]
  },
  {
   "cell_type": "code",
   "execution_count": null,
   "id": "9",
   "metadata": {},
   "outputs": [],
   "source": [
    "# Initialize and train a simple linear regression model\n",
    "model = LinearRegression()\n",
    "model.fit(X_train, y_train)\n",
    "\n",
    "# Make predictions\n",
    "y_pred = model.predict(X_test)"
   ]
  },
  {
   "cell_type": "code",
   "execution_count": null,
   "id": "10",
   "metadata": {},
   "outputs": [],
   "source": [
    "evaluation_df = pd.DataFrame({\"y\": y_test, \"y_pred\": y_pred})\n",
    "metrics = evaluate_model(evaluation_df)\n",
    "print(metrics)"
   ]
  },
  {
   "cell_type": "code",
   "execution_count": null,
   "id": "11",
   "metadata": {},
   "outputs": [],
   "source": [
    "xy_lim = (0, 3_000_000)\n",
    "plot_actual_vs_predicted(\n",
    "    evaluation_df,\n",
    "    xlim=xy_lim,\n",
    "    ylim=xy_lim,\n",
    "    title=\"Actual vs Predicted Home Values\",\n",
    "    x_label=\"Actual Home Value\",\n",
    "    y_label=\"Predicted Home Value\",\n",
    ")"
   ]
  },
  {
   "cell_type": "code",
   "execution_count": null,
   "id": "12",
   "metadata": {},
   "outputs": [],
   "source": [
    "evaluate_df = pd.DataFrame({\"y\": y_test, \"y_pred\": y_pred})\n",
    "metrics = evaluate_model(evaluate_df)\n",
    "print(metrics)"
   ]
  },
  {
   "cell_type": "code",
   "execution_count": null,
   "id": "13",
   "metadata": {},
   "outputs": [],
   "source": [
    "evaluate_df.head()"
   ]
  },
  {
   "cell_type": "code",
   "execution_count": null,
   "id": "14",
   "metadata": {},
   "outputs": [],
   "source": [
    "xy_lim = (0, 3000000)\n",
    "plot_actual_vs_predicted(\n",
    "    evaluate_df,\n",
    "    x_label=\"Actual\",\n",
    "    y_label=\"Predicted\",\n",
    "    xlim=xy_lim,\n",
    "    ylim=xy_lim,\n",
    "    title=\"Actual vs Predicted ZHVI\",\n",
    ")"
   ]
  },
  {
   "cell_type": "code",
   "execution_count": null,
   "id": "15",
   "metadata": {},
   "outputs": [],
   "source": [
    "k = 5\n",
    "knn_model = KNeighborsRegressor(n_neighbors=k)\n",
    "knn_model.fit(X_train, y_train)\n",
    "y_pred = knn_model.predict(X_test)"
   ]
  },
  {
   "cell_type": "code",
   "execution_count": null,
   "id": "16",
   "metadata": {},
   "outputs": [],
   "source": [
    "plot_actual_vs_predicted(\n",
    "    evaluate_df,\n",
    "    x_label=\"Actual\",\n",
    "    y_label=\"Predicted\",\n",
    "    xlim=xy_lim,\n",
    "    ylim=xy_lim,\n",
    "    title=f\"Actual vs Predicted ZHVI (KNN, k={k})\",\n",
    ")"
   ]
  },
  {
   "cell_type": "code",
   "execution_count": null,
   "id": "17",
   "metadata": {},
   "outputs": [],
   "source": [
    "evaluation_df = pd.DataFrame({\"y\": y_test, \"y_pred\": y_pred})\n",
    "metrics = evaluate_model(evaluation_df)\n",
    "print(metrics)"
   ]
  },
  {
   "cell_type": "code",
   "execution_count": null,
   "id": "18",
   "metadata": {},
   "outputs": [],
   "source": []
  },
  {
   "cell_type": "code",
   "execution_count": null,
   "id": "19",
   "metadata": {},
   "outputs": [],
   "source": []
  }
 ],
 "metadata": {
  "kernelspec": {
   "display_name": "gee",
   "language": "python",
   "name": "python3"
  },
  "language_info": {
   "codemirror_mode": {
    "name": "ipython",
    "version": 3
   },
   "file_extension": ".py",
   "mimetype": "text/x-python",
   "name": "python",
   "nbconvert_exporter": "python",
   "pygments_lexer": "ipython3",
   "version": "3.12.3"
  }
 },
 "nbformat": 4,
 "nbformat_minor": 5
}
