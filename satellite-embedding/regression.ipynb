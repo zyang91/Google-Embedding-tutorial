{
 "cells": [
  {
   "cell_type": "code",
   "execution_count": null,
   "id": "0",
   "metadata": {},
   "outputs": [],
   "source": [
    "import geemap\n",
    "import ee"
   ]
  },
  {
   "cell_type": "code",
   "execution_count": null,
   "id": "1",
   "metadata": {},
   "outputs": [],
   "source": [
    "ee.Authenticate()"
   ]
  },
  {
   "cell_type": "code",
   "execution_count": null,
   "id": "2",
   "metadata": {},
   "outputs": [],
   "source": [
    "ee.Initialize(project=\"ee-zhanchaoyang\")"
   ]
  },
  {
   "cell_type": "code",
   "execution_count": null,
   "id": "3",
   "metadata": {},
   "outputs": [],
   "source": [
    "m = geemap.Map(center=(40, -100), zoom=4)\n",
    "m"
   ]
  },
  {
   "cell_type": "code",
   "execution_count": null,
   "id": "4",
   "metadata": {},
   "outputs": [],
   "source": [
    "geometry = ee.Geometry.Polygon(\n",
    "    [[74.322, 14.981], [74.322, 14.765], [74.648, 14.765], [74.648, 14.980]]\n",
    ")"
   ]
  },
  {
   "cell_type": "code",
   "execution_count": null,
   "id": "5",
   "metadata": {},
   "outputs": [],
   "source": [
    "m.add_basemap(\"SATELLITE\")"
   ]
  },
  {
   "cell_type": "code",
   "execution_count": null,
   "id": "6",
   "metadata": {},
   "outputs": [],
   "source": [
    "m.addLayer(geometry, {}, \"geometry\")\n",
    "m.centerObject(geometry)"
   ]
  },
  {
   "cell_type": "code",
   "execution_count": null,
   "id": "7",
   "metadata": {},
   "outputs": [],
   "source": [
    "startDate = ee.Date.fromYMD(2022, 1, 1)"
   ]
  },
  {
   "cell_type": "code",
   "execution_count": null,
   "id": "8",
   "metadata": {},
   "outputs": [],
   "source": [
    "endDate = ee.Date.fromYMD(2023, 1, 1)"
   ]
  },
  {
   "cell_type": "code",
   "execution_count": null,
   "id": "9",
   "metadata": {},
   "outputs": [],
   "source": [
    "embeddings = ee.ImageCollection(\"GOOGLE/SATELLITE_EMBEDDING/V1/ANNUAL\")"
   ]
  },
  {
   "cell_type": "code",
   "execution_count": null,
   "id": "10",
   "metadata": {},
   "outputs": [],
   "source": [
    "embeddingsFiltered = embeddings.filter(ee.Filter.date(startDate, endDate)).filter(\n",
    "    ee.Filter.bounds(geometry)\n",
    ")"
   ]
  },
  {
   "cell_type": "markdown",
   "id": "11",
   "metadata": {},
   "source": [
    "## Visulization"
   ]
  },
  {
   "cell_type": "code",
   "execution_count": null,
   "id": "12",
   "metadata": {},
   "outputs": [],
   "source": [
    "embeddings_vis = embeddingsFiltered.median().clip(geometry)"
   ]
  },
  {
   "cell_type": "code",
   "execution_count": null,
   "id": "13",
   "metadata": {},
   "outputs": [],
   "source": [
    "vis_params = {\n",
    "    \"bands\": [\"A00\", \"A01\", \"A02\"],\n",
    "    \"min\": -0.5,\n",
    "    \"max\": 0.5,\n",
    "}"
   ]
  },
  {
   "cell_type": "code",
   "execution_count": null,
   "id": "14",
   "metadata": {},
   "outputs": [],
   "source": [
    "m.addLayer(embeddings_vis, vis_params, \"embeddings\")\n",
    "m"
   ]
  },
  {
   "cell_type": "markdown",
   "id": "15",
   "metadata": {},
   "source": [
    "## Tasks continue"
   ]
  },
  {
   "cell_type": "code",
   "execution_count": null,
   "id": "16",
   "metadata": {},
   "outputs": [],
   "source": [
    "# check the projections\n",
    "embeddingsProjection = ee.Image(embeddingsFiltered.first()).select(0).projection()"
   ]
  },
  {
   "cell_type": "code",
   "execution_count": null,
   "id": "17",
   "metadata": {},
   "outputs": [],
   "source": [
    "embeddingsProjection"
   ]
  },
  {
   "cell_type": "code",
   "execution_count": null,
   "id": "18",
   "metadata": {},
   "outputs": [],
   "source": [
    "embeddingsImage = embeddingsFiltered.mosaic().setDefaultProjection(embeddingsProjection)"
   ]
  },
  {
   "cell_type": "code",
   "execution_count": null,
   "id": "19",
   "metadata": {},
   "outputs": [],
   "source": [
    "gedi = ee.ImageCollection(\"LARSE/GEDI/GEDI04_A_002_MONTHLY\")"
   ]
  },
  {
   "cell_type": "code",
   "execution_count": null,
   "id": "20",
   "metadata": {},
   "outputs": [],
   "source": [
    "def qualityMask(image):\n",
    "    mask = image.updateMask(image.select(\"l4_quality_flag\").eq(1)).updateMask(\n",
    "        image.select(\"degrade_flag\").eq(0)\n",
    "    )\n",
    "    return mask"
   ]
  },
  {
   "cell_type": "code",
   "execution_count": null,
   "id": "21",
   "metadata": {},
   "outputs": [],
   "source": [
    "def errorMask(image):\n",
    "    relative_se = image.select(\"agbd_se\").divide(image.select(\"agbd\"))\n",
    "    error_mask = image.updateMask(relative_se.lte(0.5))\n",
    "    return error_mask"
   ]
  },
  {
   "cell_type": "code",
   "execution_count": null,
   "id": "22",
   "metadata": {},
   "outputs": [],
   "source": [
    "def SlopeMask(image):\n",
    "    glo30 = ee.ImageCollection(\"COPERNICUS/DEM/GLO30\")\n",
    "    glo30Filtered = glo30.filter(ee.Filter.bounds(geometry)).select(\"DEM\")\n",
    "    demProj = glo30Filtered.first().select(0).projection()\n",
    "    elevation = glo30Filtered.mosaic().rename(\"dem\").setDefaultProjection(demProj)\n",
    "    slope = ee.Terrain.slope(elevation)\n",
    "    slope_mask = image.updateMask(slope.lte(30))\n",
    "    return slope_mask"
   ]
  },
  {
   "cell_type": "code",
   "execution_count": null,
   "id": "23",
   "metadata": {},
   "outputs": [],
   "source": [
    "gediFiltered = gedi.filter(ee.Filter.date(startDate, endDate)).filter(\n",
    "    ee.Filter.bounds(geometry)\n",
    ")"
   ]
  },
  {
   "cell_type": "code",
   "execution_count": null,
   "id": "24",
   "metadata": {},
   "outputs": [],
   "source": [
    "gediProjection = ee.Image(gediFiltered.first()).select(\"agbd\").projection()"
   ]
  },
  {
   "cell_type": "code",
   "execution_count": null,
   "id": "25",
   "metadata": {},
   "outputs": [],
   "source": [
    "gedi_processed = gediFiltered.map(qualityMask).map(errorMask).map(SlopeMask)"
   ]
  },
  {
   "cell_type": "code",
   "execution_count": null,
   "id": "26",
   "metadata": {},
   "outputs": [],
   "source": [
    "gediMosaic = gedi_processed.mosaic().select(\"agbd\").setDefaultProjection(gediProjection)"
   ]
  },
  {
   "cell_type": "code",
   "execution_count": null,
   "id": "27",
   "metadata": {},
   "outputs": [],
   "source": [
    "gediVis = {\n",
    "    min: 0,\n",
    "    max: 200,\n",
    "    \"palette\": [\"#edf8fb\", \"#b2e2e2\", \"#66c2a4\", \"#2ca25f\", \"#006d2c\"],\n",
    "    \"bands\": [\"agbd\"],\n",
    "}"
   ]
  },
  {
   "cell_type": "code",
   "execution_count": null,
   "id": "28",
   "metadata": {},
   "outputs": [],
   "source": [
    "m.addLayer(gedi_processed, gediVis, \"gedi\")\n",
    "m"
   ]
  },
  {
   "cell_type": "code",
   "execution_count": null,
   "id": "29",
   "metadata": {},
   "outputs": [],
   "source": [
    "gridScale = 100"
   ]
  },
  {
   "cell_type": "code",
   "execution_count": null,
   "id": "30",
   "metadata": {},
   "outputs": [],
   "source": [
    "gridProjection = ee.Projection(\"EPSG:3857\").atScale(gridScale)"
   ]
  },
  {
   "cell_type": "code",
   "execution_count": null,
   "id": "31",
   "metadata": {},
   "outputs": [],
   "source": [
    "stacked = embeddingsImage.addBands(gediMosaic)"
   ]
  },
  {
   "cell_type": "code",
   "execution_count": null,
   "id": "32",
   "metadata": {},
   "outputs": [],
   "source": [
    "stacked = stacked.resample(\"bilinear\")"
   ]
  },
  {
   "cell_type": "code",
   "execution_count": null,
   "id": "33",
   "metadata": {},
   "outputs": [],
   "source": [
    "stackedResampled = stacked.reduceResolution(\n",
    "    reducer=ee.Reducer.mean(), maxPixels=1024\n",
    ").reproject(crs=gridProjection)"
   ]
  },
  {
   "cell_type": "code",
   "execution_count": null,
   "id": "34",
   "metadata": {},
   "outputs": [],
   "source": [
    "stackedResampled = stackedResampled.updateMask(stackedResampled.mask().gt(0))"
   ]
  },
  {
   "cell_type": "code",
   "execution_count": null,
   "id": "35",
   "metadata": {},
   "outputs": [],
   "source": [
    "export_image = stackedResampled.clip(geometry)"
   ]
  },
  {
   "cell_type": "code",
   "execution_count": null,
   "id": "36",
   "metadata": {},
   "outputs": [],
   "source": [
    "geemap.ee_export_image_to_drive(\n",
    "    export_image,\n",
    "    description=\"GEDI_Mosaic_Export\",\n",
    "    folder=\"EarthEngine\",  # Change to your Google Drive folder\n",
    "    fileNamePrefix=\"gedi_mosaic\",  # No \".tif\" extension\n",
    "    scale=gridScale,\n",
    "    region=geometry,\n",
    "    maxPixels=1e10,\n",
    ")"
   ]
  },
  {
   "cell_type": "code",
   "execution_count": null,
   "id": "37",
   "metadata": {},
   "outputs": [],
   "source": [
    "predictors = embeddingsImage.bandNames()"
   ]
  },
  {
   "cell_type": "code",
   "execution_count": null,
   "id": "38",
   "metadata": {},
   "outputs": [],
   "source": [
    "predicted = gediMosaic.bandNames().get(0)"
   ]
  },
  {
   "cell_type": "code",
   "execution_count": null,
   "id": "39",
   "metadata": {},
   "outputs": [],
   "source": [
    "print(\"predictors\", predictors.getInfo())"
   ]
  },
  {
   "cell_type": "code",
   "execution_count": null,
   "id": "40",
   "metadata": {},
   "outputs": [],
   "source": [
    "print(\"predicted\", predicted.getInfo())"
   ]
  },
  {
   "cell_type": "code",
   "execution_count": null,
   "id": "41",
   "metadata": {},
   "outputs": [],
   "source": [
    "predictorImage = stackedResampled.select(predictors)"
   ]
  },
  {
   "cell_type": "code",
   "execution_count": null,
   "id": "42",
   "metadata": {},
   "outputs": [],
   "source": [
    "predictedImage = stackedResampled.select([predicted])"
   ]
  },
  {
   "cell_type": "code",
   "execution_count": null,
   "id": "43",
   "metadata": {},
   "outputs": [],
   "source": [
    "classMask = predictedImage.mask().toInt().rename(\"class\")"
   ]
  },
  {
   "cell_type": "code",
   "execution_count": null,
   "id": "44",
   "metadata": {},
   "outputs": [],
   "source": [
    "numSamples = 1000"
   ]
  },
  {
   "cell_type": "code",
   "execution_count": null,
   "id": "45",
   "metadata": {},
   "outputs": [],
   "source": [
    "training = stackedResampled.addBands(classMask).stratifiedSample(\n",
    "    numPoints=numSamples,\n",
    "    classBand=\"class\",\n",
    "    region=geometry,\n",
    "    scale=gridScale,\n",
    "    classValues=[0, 1],\n",
    "    classPoints=[0, numSamples],\n",
    "    dropNulls=True,\n",
    "    tileScale=16,\n",
    ")"
   ]
  },
  {
   "cell_type": "code",
   "execution_count": null,
   "id": "46",
   "metadata": {},
   "outputs": [],
   "source": [
    "model = (\n",
    "    ee.Classifier.smileRandomForest(50)\n",
    "    .setOutputMode(\"REGRESSION\")\n",
    "    .train(features=training, classProperty=predicted, inputProperties=predictors)\n",
    ")"
   ]
  },
  {
   "cell_type": "code",
   "execution_count": null,
   "id": "47",
   "metadata": {},
   "outputs": [],
   "source": [
    "predicted = training.classify(classifier=model, outputName=\"agbd_predicted\")"
   ]
  },
  {
   "cell_type": "code",
   "execution_count": null,
   "id": "48",
   "metadata": {},
   "outputs": [],
   "source": [
    "def calculatermse(inputs):\n",
    "    observed = ee.Array(inputs.aggregate_array(\"agbd\"))\n",
    "    predicted = ee.Array(inputs.aggregate_array(\"agbd_predicted\"))\n",
    "    rmse = (\n",
    "        observed.subtract(predicted)\n",
    "        .pow(2)\n",
    "        .reduce(ee.Reducer.mean(), [0])\n",
    "        .sqrt()\n",
    "        .get([0])\n",
    "    )\n",
    "    return rmse"
   ]
  },
  {
   "cell_type": "code",
   "execution_count": null,
   "id": "49",
   "metadata": {},
   "outputs": [],
   "source": [
    "rmse = calculatermse(predicted)\n",
    "print(\"RMSE\", rmse.getInfo())"
   ]
  },
  {
   "cell_type": "markdown",
   "id": "50",
   "metadata": {},
   "source": [
    "## Plot"
   ]
  },
  {
   "cell_type": "code",
   "execution_count": null,
   "id": "51",
   "metadata": {},
   "outputs": [],
   "source": [
    "import numpy as np\n",
    "import pandas as pd\n",
    "import matplotlib.pyplot as plt"
   ]
  },
  {
   "cell_type": "code",
   "execution_count": null,
   "id": "52",
   "metadata": {},
   "outputs": [],
   "source": []
  }
 ],
 "metadata": {
  "kernelspec": {
   "display_name": "geosptial",
   "language": "python",
   "name": "python3"
  },
  "language_info": {
   "codemirror_mode": {
    "name": "ipython",
    "version": 3
   },
   "file_extension": ".py",
   "mimetype": "text/x-python",
   "name": "python",
   "nbconvert_exporter": "python",
   "pygments_lexer": "ipython3",
   "version": "3.13.5"
  }
 },
 "nbformat": 4,
 "nbformat_minor": 5
}
